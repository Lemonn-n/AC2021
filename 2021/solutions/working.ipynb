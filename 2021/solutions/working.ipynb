{
 "cells": [
  {
   "cell_type": "code",
   "execution_count": 1,
   "id": "1bbd814c-b5ec-4544-83ec-483101760a5f",
   "metadata": {},
   "outputs": [
    {
     "data": {
      "text/plain": [
       "['/Users/qzhou/repos/AC2021/solutions',\n",
       " '/Library/Frameworks/Python.framework/Versions/3.10/lib/python310.zip',\n",
       " '/Library/Frameworks/Python.framework/Versions/3.10/lib/python3.10',\n",
       " '/Library/Frameworks/Python.framework/Versions/3.10/lib/python3.10/lib-dynload',\n",
       " '',\n",
       " '/Library/Frameworks/Python.framework/Versions/3.10/lib/python3.10/site-packages',\n",
       " '/Library/Frameworks/Python.framework/Versions/3.10/lib/python3.10/site-packages/IPython/extensions',\n",
       " '/Users/qzhou/.ipython']"
      ]
     },
     "execution_count": 1,
     "metadata": {},
     "output_type": "execute_result"
    }
   ],
   "source": [
    "import sys\n",
    "sys.path"
   ]
  },
  {
   "cell_type": "code",
   "execution_count": 2,
   "id": "23a89e28-fc59-4ea2-afc4-ff01c5d81ee6",
   "metadata": {},
   "outputs": [
    {
     "name": "stdout",
     "output_type": "stream",
     "text": [
      "3.10.0 (v3.10.0:b494f5935c, Oct  4 2021, 14:59:19) [Clang 12.0.5 (clang-1205.0.22.11)]\n"
     ]
    }
   ],
   "source": [
    "import platform\n",
    "print(platform.sys.version)"
   ]
  },
  {
   "cell_type": "markdown",
   "id": "051ea139-2b66-4f47-8f9c-452adbbdfeaa",
   "metadata": {},
   "source": [
    "### Day18-Part1/2"
   ]
  },
  {
   "cell_type": "code",
   "execution_count": 749,
   "id": "23d80406-fb52-4fd4-ad9f-626f316f0ebf",
   "metadata": {},
   "outputs": [],
   "source": [
    "f = open('../inputs/input18.txt').read().splitlines()"
   ]
  },
  {
   "cell_type": "code",
   "execution_count": 732,
   "id": "915c86d4-b7dc-4ce0-a5b9-dab9d3290420",
   "metadata": {},
   "outputs": [],
   "source": [
    "import sys\n",
    "import math\n",
    "from functools import reduce"
   ]
  },
  {
   "cell_type": "code",
   "execution_count": 758,
   "id": "855db8ad-b837-498e-a18f-edfdf8b67d64",
   "metadata": {},
   "outputs": [
    {
     "data": {
      "text/plain": [
       "'[[[[2,2],7],[[9,2],[5,2]]],[4,[[8,9],9]]]'"
      ]
     },
     "execution_count": 758,
     "metadata": {},
     "output_type": "execute_result"
    }
   ],
   "source": [
    "f[0]"
   ]
  },
  {
   "cell_type": "code",
   "execution_count": 757,
   "id": "dc58071c-3766-43a4-9d05-5605146e58a4",
   "metadata": {},
   "outputs": [
    {
     "name": "stdout",
     "output_type": "stream",
     "text": [
      "c1 [\n",
      "c1 [\n",
      "c1 [\n",
      "c1 [\n",
      "c1 2\n",
      "left c 2 ,\n",
      "c2 2\n",
      "right c 2 ]\n",
      "left, right 2 2\n",
      "left (2, 2)\n",
      "c2 7\n",
      "right c 7 ]\n",
      "left, right (2, 2) 7\n",
      "left ((2, 2), 7)\n",
      "c2 [\n",
      "c1 [\n",
      "c1 9\n",
      "left c 9 ,\n",
      "c2 2\n",
      "right c 2 ]\n",
      "left, right 9 2\n",
      "left (9, 2)\n",
      "c2 [\n",
      "c1 5\n",
      "left c 5 ,\n",
      "c2 2\n",
      "right c 2 ]\n",
      "left, right 5 2\n",
      "right (5, 2)\n",
      "left, right (9, 2) (5, 2)\n",
      "right ((9, 2), (5, 2))\n",
      "left, right ((2, 2), 7) ((9, 2), (5, 2))\n",
      "left (((2, 2), 7), ((9, 2), (5, 2)))\n",
      "c2 [\n",
      "c1 4\n",
      "left c 4 ,\n",
      "c2 [\n",
      "c1 [\n",
      "c1 8\n",
      "left c 8 ,\n",
      "c2 9\n",
      "right c 9 ]\n",
      "left, right 8 9\n",
      "left (8, 9)\n",
      "c2 9\n",
      "right c 9 ]\n",
      "left, right (8, 9) 9\n",
      "right ((8, 9), 9)\n",
      "left, right 4 ((8, 9), 9)\n",
      "right (4, ((8, 9), 9))\n",
      "left, right (((2, 2), 7), ((9, 2), (5, 2))) (4, ((8, 9), 9))\n",
      "left ((((2, 2), 7), ((9, 2), (5, 2))), (4, ((8, 9), 9)))\n"
     ]
    },
    {
     "ename": "StopIteration",
     "evalue": "",
     "output_type": "error",
     "traceback": [
      "\u001b[0;31m---------------------------------------------------------------------------\u001b[0m",
      "\u001b[0;31mStopIteration\u001b[0m                             Traceback (most recent call last)",
      "\u001b[0;32m/var/folders/y3/0r1p1wmn6k59zb86by_l4_c40000gn/T/ipykernel_13299/2257600513.py\u001b[0m in \u001b[0;36m<module>\u001b[0;34m\u001b[0m\n\u001b[1;32m     34\u001b[0m \u001b[0;34m\u001b[0m\u001b[0m\n\u001b[1;32m     35\u001b[0m \u001b[0mit\u001b[0m \u001b[0;34m=\u001b[0m \u001b[0miter\u001b[0m\u001b[0;34m(\u001b[0m\u001b[0mf\u001b[0m\u001b[0;34m[\u001b[0m\u001b[0;36m0\u001b[0m\u001b[0;34m]\u001b[0m\u001b[0;34m)\u001b[0m\u001b[0;34m\u001b[0m\u001b[0;34m\u001b[0m\u001b[0m\n\u001b[0;32m---> 36\u001b[0;31m \u001b[0mparse_number_rec\u001b[0m\u001b[0;34m(\u001b[0m\u001b[0mit\u001b[0m\u001b[0;34m)\u001b[0m\u001b[0;34m\u001b[0m\u001b[0;34m\u001b[0m\u001b[0m\n\u001b[0m",
      "\u001b[0;32m/var/folders/y3/0r1p1wmn6k59zb86by_l4_c40000gn/T/ipykernel_13299/2257600513.py\u001b[0m in \u001b[0;36mparse_number_rec\u001b[0;34m(it)\u001b[0m\n\u001b[1;32m     13\u001b[0m         \u001b[0mleft\u001b[0m \u001b[0;34m=\u001b[0m \u001b[0mparse_number_rec\u001b[0m\u001b[0;34m(\u001b[0m\u001b[0mit\u001b[0m\u001b[0;34m)\u001b[0m\u001b[0;34m\u001b[0m\u001b[0;34m\u001b[0m\u001b[0m\n\u001b[1;32m     14\u001b[0m         \u001b[0mprint\u001b[0m\u001b[0;34m(\u001b[0m\u001b[0;34m'left'\u001b[0m\u001b[0;34m,\u001b[0m \u001b[0mleft\u001b[0m\u001b[0;34m)\u001b[0m\u001b[0;34m\u001b[0m\u001b[0;34m\u001b[0m\u001b[0m\n\u001b[0;32m---> 15\u001b[0;31m         \u001b[0mc\u001b[0m \u001b[0;34m=\u001b[0m \u001b[0mnext\u001b[0m\u001b[0;34m(\u001b[0m\u001b[0mit\u001b[0m\u001b[0;34m)\u001b[0m\u001b[0;34m\u001b[0m\u001b[0;34m\u001b[0m\u001b[0m\n\u001b[0m\u001b[1;32m     16\u001b[0m     \u001b[0;32melse\u001b[0m\u001b[0;34m:\u001b[0m\u001b[0;34m\u001b[0m\u001b[0;34m\u001b[0m\u001b[0m\n\u001b[1;32m     17\u001b[0m         \u001b[0mleft\u001b[0m\u001b[0;34m,\u001b[0m \u001b[0mc\u001b[0m \u001b[0;34m=\u001b[0m \u001b[0mparse_number_regular\u001b[0m\u001b[0;34m(\u001b[0m\u001b[0mc\u001b[0m\u001b[0;34m,\u001b[0m \u001b[0mit\u001b[0m\u001b[0;34m)\u001b[0m\u001b[0;34m\u001b[0m\u001b[0;34m\u001b[0m\u001b[0m\n",
      "\u001b[0;31mStopIteration\u001b[0m: "
     ]
    }
   ],
   "source": [
    "def parse_number_regular(c, it):\n",
    "    n = 0\n",
    "    while c in '0123456789':\n",
    "        n *= 10\n",
    "        n += int(c, 10)\n",
    "        c = next(it)\n",
    "    return n, c\n",
    "\n",
    "def parse_number_rec(it):\n",
    "    c = next(it)\n",
    "    print('c1', c)\n",
    "    if c == '[':\n",
    "        left = parse_number_rec(it)\n",
    "        print('left', left)\n",
    "        c = next(it)\n",
    "    else:\n",
    "        left, c = parse_number_regular(c, it)\n",
    "        print('left c', left, c)\n",
    "    if c != ',':\n",
    "        raise ValueError\n",
    "    c = next(it)\n",
    "    print('c2', c)\n",
    "    if c == '[':\n",
    "        right = parse_number_rec(it)\n",
    "        print('right', right)\n",
    "        c = next(it)\n",
    "    else:\n",
    "        right, c = parse_number_regular(c, it)\n",
    "        print('right c', right, c)\n",
    "    if c != ']':\n",
    "        raise ValueError\n",
    "    print('left, right', left, right)\n",
    "    return (left, right)\n",
    "\n",
    "it = iter(f[0])\n",
    "parse_number_rec(it)"
   ]
  },
  {
   "cell_type": "code",
   "execution_count": 735,
   "id": "dcbb3b69-f6cb-42d4-abee-e13461699de7",
   "metadata": {},
   "outputs": [
    {
     "data": {
      "text/plain": [
       "<generator object parse_numbers at 0x2b4d2e5e0>"
      ]
     },
     "execution_count": 735,
     "metadata": {},
     "output_type": "execute_result"
    }
   ],
   "source": [
    "def parse_numbers(lines):\n",
    "    for line in lines:\n",
    "        it = iter(line)\n",
    "        if next(it) != '[':\n",
    "            raise ValueError\n",
    "        yield parse_number_rec(it)\n",
    "        \n",
    "def parse_number_rec(it):\n",
    "    c = next(it)\n",
    "    if c == '[':\n",
    "        left = parse_number_rec(it)\n",
    "        c = next(it)\n",
    "    else:\n",
    "        left, c = parse_number_regular(c, it)\n",
    "    if c != ',':\n",
    "        raise ValueError\n",
    "    c = next(it)\n",
    "    if c == '[':\n",
    "        right = parse_number_rec(it)\n",
    "        c = next(it)\n",
    "    else:\n",
    "        right, c = parse_number_regular(c, it)\n",
    "    if c != ']':\n",
    "        raise ValueError\n",
    "    return (left, right)\n",
    "\n",
    "def parse_number_regular(c, it):\n",
    "    n = 0\n",
    "    while c in '0123456789':\n",
    "        n *= 10\n",
    "        n += int(c, 10)\n",
    "        c = next(it)\n",
    "    return n, c\n",
    "\n",
    "with open('../inputs/input18.txt', 'r') as f:\n",
    "    numbers = parse_numbers(map(str.strip, f))\n",
    "numbers"
   ]
  },
  {
   "cell_type": "code",
   "execution_count": 731,
   "id": "160b3246-662e-4654-8b5e-368f1731d93d",
   "metadata": {},
   "outputs": [
    {
     "name": "stdout",
     "output_type": "stream",
     "text": [
      "4\n",
      "4\n"
     ]
    },
    {
     "data": {
      "text/plain": [
       "['[[[[2,2],7],[[9,2],[5,2]]]', '']"
      ]
     },
     "execution_count": 731,
     "metadata": {},
     "output_type": "execute_result"
    }
   ],
   "source": [
    "import sys\n",
    "import math\n",
    "from functools import reduce\n",
    "\n",
    "def parse_numbers(lines):\n",
    "    for line in lines:\n",
    "        it = iter(line)\n",
    "        if next(it) != '[':\n",
    "            raise ValueError\n",
    "        yield parse_number_rec(it)\n",
    "\n",
    "def parse_number_rec(it):\n",
    "    c = next(it)\n",
    "    if c == '[':\n",
    "        left = parse_number_rec(it)\n",
    "        c = next(it)\n",
    "    else:\n",
    "        left, c = parse_number_regular(c, it)\n",
    "    if c != ',':\n",
    "        raise ValueError\n",
    "    c = next(it)\n",
    "    if c == '[':\n",
    "        right = parse_number_rec(it)\n",
    "        c = next(it)\n",
    "    else:\n",
    "        right, c = parse_number_regular(c, it)\n",
    "    if c != ']':\n",
    "        raise ValueError\n",
    "    return (left, right)\n",
    "\n",
    "def parse_number_regular(c, it):\n",
    "    n = 0\n",
    "    while c in '0123456789':\n",
    "        n *= 10\n",
    "        n += int(c, 10)\n",
    "        c = next(it)\n",
    "    return n, c\n",
    "\n",
    "def add_numbers(a, b):\n",
    "    return reduce_number((a, b))\n",
    "\n",
    "def reduce_number(n):\n",
    "    reduced = True\n",
    "    while reduced:\n",
    "        n, reduced, *_ = explode_rec(n, 0)\n",
    "        if not reduced:\n",
    "            n, reduced = split_rec(n)\n",
    "    return n\n",
    "\n",
    "def explode_rec(n, level):\n",
    "    if not isinstance(n, int):\n",
    "        l, r = n\n",
    "        if level >= 4:\n",
    "            return 0, True, l, r\n",
    "        else:\n",
    "            l, reduced, expl, expr = explode_rec(l, level + 1)\n",
    "            if reduced:\n",
    "                if expr != 0:\n",
    "                    r = add_left(r, expr)\n",
    "                    expr = 0\n",
    "            else:\n",
    "                r, reduced, expl, expr = explode_rec(r, level + 1)\n",
    "                if reduced:\n",
    "                    if expl != 0:\n",
    "                        l = add_right(l, expl)\n",
    "                        expl = 0\n",
    "            if reduced:\n",
    "                return (l, r), True, expl, expr\n",
    "    return n, False, 0, 0\n",
    "\n",
    "def add_left(n, m):\n",
    "    if isinstance(n, int):\n",
    "        return n + m\n",
    "    else:\n",
    "        a, b = n\n",
    "        return add_left(a, m), b\n",
    "\n",
    "def add_right(n, m):\n",
    "    if isinstance(n, int):\n",
    "        return n + m\n",
    "    else:\n",
    "        a, b = n\n",
    "        return a, add_right(b, m)\n",
    "\n",
    "def split_rec(n):\n",
    "    if isinstance(n, int):\n",
    "        if n >= 10:\n",
    "            a = n // 2\n",
    "            return (a, n - a), True\n",
    "    else:\n",
    "        l, r = n\n",
    "        l, reduced = split_rec(l)\n",
    "        if not reduced:\n",
    "            r, reduced = split_rec(r)\n",
    "        if reduced:\n",
    "            return (l, r), True\n",
    "    return n, False\n",
    "\n",
    "def number_magnitude(n):\n",
    "    if isinstance(n, int):\n",
    "        return n\n",
    "    l, r = n\n",
    "    return 3 * number_magnitude(l) + 2 * number_magnitude(r)\n",
    "\n",
    "def part1(in_file):\n",
    "    with open(in_file, 'r') as f:\n",
    "        numbers = parse_numbers(map(str.strip, f))\n",
    "        numbers = map(reduce_number, numbers)\n",
    "        res = reduce(add_numbers, numbers)\n",
    "    print(res)\n",
    "    m = number_magnitude(res)\n",
    "    print(m)\n",
    "\n",
    "def part2(in_file):\n",
    "    with open(in_file, 'r') as f:\n",
    "        numbers = parse_numbers(map(str.strip, f))\n",
    "        numbers = list(map(reduce_number, numbers))\n",
    "    m_max = -math.inf\n",
    "    for i, n1 in enumerate(numbers):\n",
    "        for j, n2 in enumerate(numbers):\n",
    "            if i == j: continue\n",
    "            m = number_magnitude(add_numbers(n1, n2))\n",
    "            if m > m_max:\n",
    "                m_max = m\n",
    "    print(m_max)\n",
    "\n",
    "if __name__ == '__main__':\n",
    "    part1(*sys.argv[1:])\n",
    "    part2(*sys.argv[1:])\n",
    "\n"
   ]
  },
  {
   "cell_type": "code",
   "execution_count": 682,
   "id": "8f859553-3c2b-40a1-bb48-031c3ff0b1ba",
   "metadata": {},
   "outputs": [
    {
     "data": {
      "text/plain": [
       "['[2,2]', '[9,2]', '[5,2]', '[8,9]']"
      ]
     },
     "execution_count": 682,
     "metadata": {},
     "output_type": "execute_result"
    }
   ],
   "source": [
    "re.findall('\\[\\d,\\d\\]', f[0])"
   ]
  },
  {
   "cell_type": "code",
   "execution_count": 683,
   "id": "a0fc9c34-07c5-4cc3-9d52-47eedd163f2d",
   "metadata": {},
   "outputs": [],
   "source": [
    "a = [[[[2,2],7],[[9,2],[5,2]]],[4,[[8,9],9]]]"
   ]
  },
  {
   "cell_type": "code",
   "execution_count": 685,
   "id": "e9773a39-51cb-44be-afa7-1e52cf0b21cd",
   "metadata": {},
   "outputs": [
    {
     "data": {
      "text/plain": [
       "[4, [[8, 9], 9]]"
      ]
     },
     "execution_count": 685,
     "metadata": {},
     "output_type": "execute_result"
    }
   ],
   "source": [
    "a[1]"
   ]
  },
  {
   "cell_type": "code",
   "execution_count": null,
   "id": "37cef42f-a9a1-447e-abe3-6bcaf9d80b0d",
   "metadata": {},
   "outputs": [],
   "source": []
  },
  {
   "cell_type": "code",
   "execution_count": null,
   "id": "ff8ae85a-91f9-4984-be05-4bfa1e299499",
   "metadata": {},
   "outputs": [],
   "source": []
  },
  {
   "cell_type": "code",
   "execution_count": null,
   "id": "550632ed-b596-4287-b487-d25540173325",
   "metadata": {},
   "outputs": [],
   "source": []
  },
  {
   "cell_type": "markdown",
   "id": "12f363ac-572d-4fe6-915a-2df151085b41",
   "metadata": {},
   "source": [
    "### Day17-Part1/2"
   ]
  },
  {
   "cell_type": "code",
   "execution_count": 658,
   "id": "f27c8aff-1c36-4b98-bc4b-e06686a6dcba",
   "metadata": {},
   "outputs": [
    {
     "name": "stdout",
     "output_type": "stream",
     "text": [
      "['target area: x=155..215, y=-132..-72']\n"
     ]
    },
    {
     "data": {
      "text/plain": [
       "([155, 215], [-132, -72])"
      ]
     },
     "execution_count": 658,
     "metadata": {},
     "output_type": "execute_result"
    }
   ],
   "source": [
    "f = open('../inputs/input17.txt').read().splitlines()\n",
    "x_range = [int(x) for x in f[0].split(',')[0].split('=')[1].split('..')]\n",
    "y_range = [int(y) for y in f[0].split(',')[1].split('=')[1].split('..')]\n",
    "print(x_range, y_range)"
   ]
  },
  {
   "cell_type": "code",
   "execution_count": 655,
   "id": "ffc7a002-b7b2-4d24-8aae-e166210c9bb6",
   "metadata": {},
   "outputs": [],
   "source": [
    "def inRange(pos, rangex, rangey):\n",
    "    return (pos[0] in range(rangex[0], rangex[1]+1)) and (pos[1] in range(rangey[0], rangey[1]+1))\n",
    "\n",
    "def step(x0, y0, rangex, rangey):\n",
    "    pos = [(x0, y0)]\n",
    "    vx, vy = x0, y0\n",
    "    while True:\n",
    "        if inRange(pos[-1], rangex, rangey):\n",
    "            # return max([p[1] for p in pos])\n",
    "            return (x0, y0)\n",
    "            # return pos\n",
    "        if pos[-1][1]<rangey[0]:\n",
    "            return -1\n",
    "            # return pos\n",
    "        if vx > 0:\n",
    "            vx -= 1\n",
    "        elif vx < 0:\n",
    "            vx += 1\n",
    "        vy -= 1\n",
    "        pos.append((pos[-1][0]+vx, pos[-1][1]+vy))"
   ]
  },
  {
   "cell_type": "code",
   "execution_count": 626,
   "id": "ab0ff768-c4ec-4de5-ab47-024cd20f7b61",
   "metadata": {},
   "outputs": [
    {
     "name": "stdout",
     "output_type": "stream",
     "text": [
      "part 1:  8646.0\n"
     ]
    }
   ],
   "source": [
    "# part1:\n",
    "# at vy>0 velocity, it will reach y-pos=0 with velocity vy-1\n",
    "# if vy<0, it will miss the target is vy < y-target min\n",
    "# so, y-target min = -vy - 1 --> vy = -y-taget min -1\n",
    "# max height= vy * (vy+1)/2\n",
    "\n",
    "vy = -y_range[0]-1\n",
    "print('part 1: ', vy * (vy+1)/2)"
   ]
  },
  {
   "cell_type": "code",
   "execution_count": null,
   "id": "44bfbfc4-fe20-4fba-9e0d-cf735b2a65e8",
   "metadata": {},
   "outputs": [
    {
     "data": {
      "text/plain": [
       "5945"
      ]
     },
     "execution_count": 659,
     "metadata": {},
     "output_type": "execute_result"
    }
   ],
   "source": [
    "init = []\n",
    "for xi in range(1, x_range[1]+1):\n",
    "    for yi in range(y_range[0], -y_range[0]):\n",
    "        if step(xi, yi, x_range, y_range) != -1:\n",
    "            init.append(step(xi, yi, x_range, y_range))\n",
    "print('part 2: ', len(init))"
   ]
  },
  {
   "cell_type": "markdown",
   "id": "e6082159-a5e9-4289-af76-3e9920006764",
   "metadata": {},
   "source": [
    "### Day16-Part1/2"
   ]
  },
  {
   "cell_type": "code",
   "execution_count": 572,
   "id": "fd8ed36e-d41f-41bf-abf9-7a9012100f7f",
   "metadata": {},
   "outputs": [],
   "source": [
    "with open('../inputs/input16.txt') as f:\n",
    "    f = f.read().splitlines()[0]\n",
    "f_bin = ''.join([bin(int(s, 16))[2:].zfill(4) for s in f])"
   ]
  },
  {
   "cell_type": "code",
   "execution_count": 576,
   "id": "e1926b10-22c9-4d7d-86fc-ef602bdd680b",
   "metadata": {},
   "outputs": [
    {
     "name": "stdout",
     "output_type": "stream",
     "text": [
      "Part 1: 1002\n"
     ]
    }
   ],
   "source": [
    "def literal_packet(s):\n",
    "    p_version, p_type = int(s[0:3],2), int(s[3:6], 2)\n",
    "    flag = s[6]\n",
    "    group = s[7:11]\n",
    "    start = 6\n",
    "    while flag=='1':\n",
    "        start += 5\n",
    "        flag = s[start]\n",
    "        group += s[start+1:start+5]\n",
    "    packet = int(group, 2)\n",
    "    s = s[start+5:]\n",
    "    return (p_version, p_type, packet, s)\n",
    "\n",
    "def op0_packet(s):\n",
    "    p_version, p_type = int(s[0:3],2), int(s[3:6], 2)\n",
    "    subpacket = s[22:]\n",
    "    return p_version, p_type, subpacket\n",
    "\n",
    "def op1_packet(s):\n",
    "    p_version, p_type = int(s[0:3],2), int(s[3:6], 2)\n",
    "    subpacket = s[18:]\n",
    "    return p_version, p_type, subpacket\n",
    "\n",
    "def unpack(s1):\n",
    "    list_packet = []\n",
    "\n",
    "    while len(s1)>0:\n",
    "        if int(s1[3:6],2) == 4:\n",
    "            _ver, _type, _value, s1 = literal_packet(s1)\n",
    "            list_packet.append((_ver, _type, _value))    \n",
    "        else:\n",
    "            if s1[6]=='0':\n",
    "                _ver, _type, s1 = op0_packet(s1)\n",
    "                list_packet.append((_ver, _type))\n",
    "            else:\n",
    "                _ver, _type, s1 = op1_packet(s1)\n",
    "                list_packet.append((_ver, _type))\n",
    "        if len(s1)==0 or int(s1, 2)==0:\n",
    "            break\n",
    "    return list_packet\n",
    "\n",
    "unpacked = unpack(f_bin)\n",
    "print('Part 1:', sum([l[0] for l in unpacked]))"
   ]
  },
  {
   "cell_type": "code",
   "execution_count": 577,
   "id": "4f01c14b-f651-435e-b079-866a300001f1",
   "metadata": {},
   "outputs": [
    {
     "data": {
      "text/plain": [
       "'+,*,eq,+,8,5,3,+,14,6,10,817,*,2519282017,gt,1133,1133,*,3581,gt,+,9,5,2,+,9,2,13,min,1047014,863,61916,2,min,2474,8,+,61,10,*,2053,gt,+,4,7,3,+,2,15,3,4,max,3071,25896876792,90333271,119514860,53417,*,lt,70133,70133,61068,*,198,eq,2335,5594,+,1866,164,46351,+,*,14,8,10,*,12,7,10,*,3,3,11,*,75308549,lt,1512,32762322674,max,7,*,196,31,33,36,*,lt,3115,45499,216,*,100,104,188,7,199,*,210,+,3162941497,max,819624592872,180,254,708340,max,+,max,+,min,+,max,min,max,+,max,+,min,min,max,*,max,*,+,*,187,11,*,28441,lt,+,13,15,6,+,15,9,5,+,176,4043,149405,1,172,*,90,187,231,*,eq,193831084,1421,218,*,695560,eq,33555,33555,*,+,4,9,3,+,4,7,11,+,12,10,15,5,14,2942,min,13040895,max,2706,236764,*,lt,29093,29093,2639,2905,*,60706885,lt,+,7,8,9,+,14,2,8,*,849193,gt,3660,6045,+,22,821619064094,675,13,66876028,*,48406,gt,7781281650951,3322,max,16157976,9,165,*,gt,166,166,97,15,*,gt,1001,67695326,20632,*,lt,10219686,205,483239986,11674,min,52,535330074729,7666,167,1561,*,gt,50028,144,117,min,120864373,8604,6,213436656663,*,44080,lt,4596286,129673,*,160,236'"
      ]
     },
     "execution_count": 577,
     "metadata": {},
     "output_type": "execute_result"
    }
   ],
   "source": [
    "dict_operation = {'0':'+', '1':'*', '2':'min', '3':'max', '5':'gt', '6':'lt', '7':'eq'}\n",
    "expression = ','.join([str(l[2]) if l[1]==4 else dict_operation[str(l[1])] for l in unpacked])\n",
    "expression"
   ]
  },
  {
   "cell_type": "code",
   "execution_count": null,
   "id": "6acc2dcb-6854-439f-bff0-33e998f42f0b",
   "metadata": {},
   "outputs": [],
   "source": [
    "from functools import reduce\n",
    "\n",
    "def calcs(exp0):\n",
    "    if exp0[0] == '+':\n",
    "        return sum([int(i) for i in exp0[1:]])\n",
    "    if exp0[0] == '*':\n",
    "        return reduce(lambda x, y: x*y, [int(i) for i in exp0[1:]])\n",
    "    if exp0[0] == 'min':\n",
    "        return min([int(i) for i in exp0[1:]])\n",
    "    if exp0[0] == 'max':\n",
    "        return max([int(i) for i in exp0[1:]])\n",
    "    if exp0[0] == 'lt':\n",
    "        return int(int(exp0[1])<int(exp0[2]))\n",
    "    if exp0[0] == 'gt':\n",
    "        return int(int(exp0[1])>int(exp0[2]))\n",
    "    if exp0[0] == 'eq':\n",
    "        return int(int(exp0[1])==int(exp0[2]))"
   ]
  },
  {
   "cell_type": "code",
   "execution_count": 578,
   "id": "984e6912-5e9a-4730-a9ac-e00ae867df23",
   "metadata": {},
   "outputs": [
    {
     "name": "stdout",
     "output_type": "stream",
     "text": [
      "part 2:  1673210814091\n"
     ]
    }
   ],
   "source": [
    "import math\n",
    "\n",
    "op = [sum, math.prod, min, max,\n",
    "      lambda ls: ls[0], # literal\n",
    "      lambda ls: 1 if ls[0] > ls[1] else 0,  # gt\n",
    "      lambda ls: 1 if ls[0] < ls[1] else 0,  # lt\n",
    "      lambda ls: 1 if ls[0] == ls[1] else 0] # eq\n",
    "\n",
    "bs = f_bin\n",
    "\n",
    "def ps2(startbit):\n",
    "    i = startbit # index into bs\n",
    "    ID = int(bs[i+3:i+6],2) # packet type ID\n",
    "    i += 6\n",
    "    if ID == 4: #literal value\n",
    "        vals = [0]\n",
    "        while True:\n",
    "            vals[0] = 16*vals[0] + int(bs[i+1:i+5],2)\n",
    "            i += 5\n",
    "            if bs[i-5] == '0': #last value packet\n",
    "                break\n",
    "    else:\n",
    "        vals = []\n",
    "        if bs[i] == '0': # subpacket length in bits\n",
    "            endi = i + 16 + int(bs[i+1:i+16],2)\n",
    "            i += 16\n",
    "            while i < endi:\n",
    "                i,v = ps2(i)\n",
    "                vals.append(v)\n",
    "        else:\n",
    "            np = int(bs[i+1:i+12],2) # number of subpackets\n",
    "            i += 12\n",
    "            for _ in range(np):\n",
    "                i,v = ps2(i)\n",
    "                vals.append(v)\n",
    "\n",
    "    return i,op[ID](vals)\n",
    "\n",
    "print('part 2: ', ps2(0)[1])"
   ]
  },
  {
   "cell_type": "markdown",
   "id": "02071c50-e424-4364-b167-638301c76db1",
   "metadata": {},
   "source": [
    "### Day15-Part1/2"
   ]
  },
  {
   "cell_type": "code",
   "execution_count": 40,
   "id": "fe242261-bd3d-45c0-b957-f1c5fee1feb3",
   "metadata": {},
   "outputs": [],
   "source": [
    "import numpy as np\n",
    "\n",
    "with open('../inputs/input15.txt') as f:\n",
    "    files = f.read().splitlines()\n",
    "files = np.array([[int(s) for s in file] for file in files])"
   ]
  },
  {
   "cell_type": "code",
   "execution_count": 44,
   "id": "22276980-bf4f-4694-a6c5-d70babdfacc4",
   "metadata": {},
   "outputs": [],
   "source": [
    "def scale(files, j):\n",
    "    file2 = files\n",
    "    for i in range(1, 5, 1):\n",
    "        fi = (files + i)%9\n",
    "        fi = np.where(fi==0, 9, fi)\n",
    "        file2 = np.hstack((file2, fi)) # horizontal\n",
    "\n",
    "    file3 = file2\n",
    "    for i in range(1, 5, 1):\n",
    "        fi = (file2 + i)%9\n",
    "        fi = np.where(fi==0, 9, fi)\n",
    "        file3 = np.vstack((file3, fi)) # vertical\n",
    "    return file3\n",
    "files_large = scale(files, 5)"
   ]
  },
  {
   "cell_type": "code",
   "execution_count": 43,
   "id": "c11585af-ec97-49ad-a0e2-975bac0784f6",
   "metadata": {},
   "outputs": [
    {
     "name": "stdout",
     "output_type": "stream",
     "text": [
      "527\n",
      "2887\n"
     ]
    }
   ],
   "source": [
    "d=[[int(c) for c in l.strip()] for l in open(\"../inputs/input15.txt\",\"rt\")]\n",
    "\n",
    "def step(ij,v,p,u,w,N,I):\n",
    "    # mark_from_ij\n",
    "    v[ij]=True\n",
    "    u.remove(ij)\n",
    "    i,j=ij//N,ij%N\n",
    "    for ni,nj in ((i-1,j),(i+1,j),(i,j-1),(i,j+1)):\n",
    "        if 0<=ni<N and 0<=nj<N:\n",
    "            nij=N*ni+nj\n",
    "            if v[nij]: continue\n",
    "            if p[nij]>p[ij]+w[nij]:\n",
    "                p[nij]=p[ij]+w[nij]\n",
    "                u.append(nij)\n",
    "    # min_unvisited\n",
    "    mij=mp=I\n",
    "    for uij in u:\n",
    "        if p[uij]<mp:\n",
    "            mij=uij; mp=p[uij]\n",
    "    return mij\n",
    "\n",
    "def solve(d):\n",
    "    N=len(d); NN=N*N; I=999999 # infinity :)\n",
    "    w=[] # weights, 1-dimension copy of input\n",
    "    for i in range(N): w+=d[i]\n",
    "    v=[False for j in range(NN)] # visited\n",
    "    p=[I for j in range(NN)] # paths\n",
    "    u=[] # unvisited items (ij indexes)\n",
    "    p[0]=0 # start with top left corner\n",
    "    u.append(0)\n",
    "    uij = step(0,v,p,u,w,N,I)\n",
    "    while uij!=I:\n",
    "        uij = step(uij,v,p,u,w,N,I)\n",
    "    return p[NN-1] # right bottom\n",
    "    # return p\n",
    "\n",
    "def scale(a,K):\n",
    "    N=len(a)\n",
    "    g=[[0 for i in range(K*N)] for j in range(K*N)]\n",
    "    for ii in range(K):\n",
    "        for jj in range(K):\n",
    "            for i in range(N):\n",
    "                for j in range(N):\n",
    "                    g[ii*N+i][jj*N+j] = (a[i][j]-1+ii+jj)%9+1\n",
    "    return g\n",
    "\n",
    "print( solve(d) )\n",
    "print( solve(scale(d,5)) )"
   ]
  },
  {
   "cell_type": "code",
   "execution_count": 341,
   "id": "c72a29c8-fdae-4ea0-bb9f-624ec941fbb6",
   "metadata": {},
   "outputs": [],
   "source": [
    "# Solution not working for loop case\n",
    "\n",
    "filename = 'input15'\n",
    "\n",
    "import numpy as np\n",
    "\n",
    "with open('../inputs/'+filename+'.txt') as f:\n",
    "    files = f.read().splitlines()\n",
    "files = np.array([[int(s) for s in file] for file in files])\n",
    "def mysolve(files):\n",
    "\n",
    "    list_dist = []\n",
    "    list_index = []\n",
    "    for i in range(len(files), -len(files), -1):\n",
    "        list_dist.append(files[:,::-1].diagonal(i).tolist())\n",
    "        list_index.append(list(zip(np.indices(files.shape)[0][:, ::-1].diagonal(i),\\\n",
    "        np.indices(files.shape)[1][:, ::-1].diagonal(i))))\n",
    "    list_dist.pop(0)\n",
    "    list_index.pop(0)\n",
    "\n",
    "    dict_dist = {}\n",
    "    for i,j in zip(list_index, list_dist):\n",
    "        for ii, jj in zip(i,j):\n",
    "            dict_dist[ii] = jj\n",
    "    dict_dist[(0,0)] = 0\n",
    "\n",
    "    def update_node(node, dict_dist):\n",
    "        i, j = node\n",
    "        up = (max(i-1, 0), j)\n",
    "        left = (i, max(j-1, 0))\n",
    "        if up == node:\n",
    "            dict_dist[node]+=dict_dist[left]\n",
    "            return dict_dist\n",
    "        if left == node:\n",
    "            dict_dist[node]+=dict_dist[up]\n",
    "            return dict_dist\n",
    "        dict_dist[node] += min(dict_dist[up], dict_dist[left])\n",
    "        return dict_dist\n",
    "\n",
    "    for i in range(len(files)*2-1):\n",
    "        for node in list_index[i]:\n",
    "            dict_dist = update_node(node, dict_dist)\n",
    "            # print(node, dict_dist[node])\n",
    "    # return (dict_dist[(files.shape[0]-1, files.shape[1]-1)])\n",
    "    return dict_dist\n",
    "               "
   ]
  },
  {
   "cell_type": "markdown",
   "id": "122af459-b26d-4b25-bc87-43e77ac2c277",
   "metadata": {},
   "source": [
    "### Day14-Part1/2"
   ]
  },
  {
   "cell_type": "code",
   "execution_count": 129,
   "id": "93cabbe4-1567-4804-87a0-9eb1dbc05694",
   "metadata": {},
   "outputs": [],
   "source": [
    "with open('../inputs/input14.txt') as f:\n",
    "    files = f.read().split('\\n\\n')\n",
    "\n",
    "s0 = files[0]\n",
    "\n",
    "import re\n",
    "dict_instruct = {}\n",
    "instruct = re.findall('(\\w+) -> (\\w+)\\n', files[1])\n",
    "for x,y in instruct:\n",
    "    dict_instruct[x] = y"
   ]
  },
  {
   "cell_type": "code",
   "execution_count": 130,
   "id": "173b87b4-46db-4886-abd4-846747a49c39",
   "metadata": {},
   "outputs": [
    {
     "name": "stdout",
     "output_type": "stream",
     "text": [
      "part 1:  2375.0\n",
      "part 2:  1976896901756.0\n"
     ]
    }
   ],
   "source": [
    "from collections import defaultdict\n",
    "\n",
    "def polymer(s0, dict_instruct, step=1):\n",
    "\n",
    "    count_instruct = defaultdict(int)\n",
    "\n",
    "    for i in range(len(s0)-1):\n",
    "        count_instruct[s0[i:i+2]]+=1\n",
    "        \n",
    "    for i in range(step):\n",
    "        new_count_instruct = count_instruct.copy()\n",
    "        for j in count_instruct.keys():\n",
    "            freq = count_instruct[j]\n",
    "            if freq > 0:\n",
    "                new_count_instruct[j[0]+dict_instruct[j]] += freq\n",
    "                new_count_instruct[dict_instruct[j]+j[1]] += freq\n",
    "                new_count_instruct[j] -= freq\n",
    "  \n",
    "        count_instruct = new_count_instruct\n",
    "    \n",
    "    dict_cnt = defaultdict(int)\n",
    "    for k,v in count_instruct.items():\n",
    "        if v>0:\n",
    "            dict_cnt[k[0]]+=v\n",
    "            dict_cnt[k[1]]+=v\n",
    "    dict_cnt[s0[0]]+=1  # 1st and last char counted only once, all the rest counted twice\n",
    "    dict_cnt[s0[-1]]+=1\n",
    "    return max(dict_cnt.values())/2 - min(dict_cnt.values())/2\n",
    "\n",
    "print('part 1: ', polymer(s0, dict_instruct, step=10))\n",
    "print('part 2: ', polymer(s0, dict_instruct, step=40))"
   ]
  },
  {
   "cell_type": "code",
   "execution_count": 131,
   "id": "e98c17e0-723d-452d-a66c-ee0dac619ea1",
   "metadata": {},
   "outputs": [
    {
     "name": "stdout",
     "output_type": "stream",
     "text": [
      "part 1:  2375\n"
     ]
    }
   ],
   "source": [
    "# original looping solution that will freeze at large steps\n",
    "def polymer(s0, dict_instruct, step=1):\n",
    "    new_s = s0\n",
    "    for i in range(step): \n",
    "        out_s = ''\n",
    "        for s in range(len(new_s)-1):\n",
    "            out_s += new_s[s]+dict_instruct[new_s[s:s+2]]\n",
    "        out_s += new_s[-1]\n",
    "        new_s = out_s\n",
    "    out_count = []\n",
    "    for i in set(out_s):\n",
    "        # out_count.append((i, out_s.count(i)))\n",
    "        out_count.append(out_s.count(i))\n",
    "    out_count = sorted(out_count)\n",
    "    return out_count[-1]-out_count[0]           \n",
    "print('part 1: ', polymer(s0, dict_instruct, step=10))"
   ]
  },
  {
   "cell_type": "markdown",
   "id": "8a05acb5-83c3-4cf2-aa9a-05cb00bac113",
   "metadata": {},
   "source": [
    "### Day13-Part1/2"
   ]
  },
  {
   "cell_type": "code",
   "execution_count": 119,
   "id": "6b381109-aeab-41ff-bf46-8ac338f428ec",
   "metadata": {},
   "outputs": [
    {
     "name": "stdout",
     "output_type": "stream",
     "text": [
      "1 ('x', '655') 704\n",
      "2 ('y', '447') 595\n",
      "3 ('x', '327') 495\n",
      "4 ('y', '223') 422\n",
      "5 ('x', '163') 351\n",
      "6 ('y', '111') 294\n",
      "7 ('x', '81') 250\n",
      "8 ('y', '55') 215\n",
      "9 ('x', '40') 178\n",
      "10 ('y', '27') 149\n",
      "11 ('y', '13') 123\n",
      "12 ('y', '6') 103\n",
      "[[1 0 0 1 0 0 1 1 0 0 0 1 1 0 0 0 0 1 1 0 1 1 1 0 0 1 1 1 1 0 1 0 0 1 0 0\n",
      "  1 1 0 0]\n",
      " [1 0 0 1 0 1 0 0 1 0 1 0 0 1 0 0 0 0 1 0 1 0 0 1 0 1 0 0 0 0 1 0 0 1 0 1\n",
      "  0 0 1 0]\n",
      " [1 1 1 1 0 1 0 0 0 0 1 0 0 1 0 0 0 0 1 0 1 1 1 0 0 1 1 1 0 0 1 1 1 1 0 1\n",
      "  0 0 0 0]\n",
      " [1 0 0 1 0 1 0 1 1 0 1 1 1 1 0 0 0 0 1 0 1 0 0 1 0 1 0 0 0 0 1 0 0 1 0 1\n",
      "  0 0 0 0]\n",
      " [1 0 0 1 0 1 0 0 1 0 1 0 0 1 0 1 0 0 1 0 1 0 0 1 0 1 0 0 0 0 1 0 0 1 0 1\n",
      "  0 0 1 0]\n",
      " [1 0 0 1 0 0 1 1 1 0 1 0 0 1 0 0 1 1 0 0 1 1 1 0 0 1 1 1 1 0 1 0 0 1 0 0\n",
      "  1 1 0 0]]\n"
     ]
    }
   ],
   "source": [
    "with open('../inputs/input13.txt') as f:\n",
    "    files = f.read().split('\\n\\n')\n",
    "coord = [c.split(',') for c in files[0].split('\\n')]\n",
    "coord = [[int(c) for c in cor] for cor in coord]\n",
    "\n",
    "import re\n",
    "instruction = re.findall('(\\w+)=(\\w+)', files[1])\n",
    "\n",
    "x, y = zip(*coord)\n",
    "\n",
    "import numpy as np\n",
    "paper = np.zeros((max(y)+1, max(x)+1))\n",
    "\n",
    "for c in coord:\n",
    "    paper[c[1], c[0]] = 1\n",
    "\n",
    "for step,i in enumerate(instruction):\n",
    "    fold_line = int(i[1])\n",
    "    if i[0]=='y':        \n",
    "        paper[fold_line, :] = 0\n",
    "        paper_up = paper[0:fold_line, :]\n",
    "        paper_down = paper[fold_line+1:, :]\n",
    "        paper_down = paper_down[::-1, :]\n",
    "        paper = paper_up+paper_down\n",
    "        print(step+1, i , (paper>0).sum())\n",
    "\n",
    "    else:\n",
    "        paper[:, fold_line] = 0\n",
    "        paper_left = paper[:, 0:fold_line]\n",
    "        paper_right = paper[:, fold_line+1:]\n",
    "        paper_right = paper_right[:,::-1]\n",
    "        paper = paper_left+paper_right\n",
    "        print(step+1, i, (paper>0).sum())\n",
    "\n",
    "# Part2 help visualizing\n",
    "print((paper>0).astype(int))"
   ]
  },
  {
   "cell_type": "markdown",
   "id": "18fec65e-01b5-4a48-a9c2-84fcef940c60",
   "metadata": {},
   "source": [
    "### Day12-Part1/2"
   ]
  },
  {
   "cell_type": "code",
   "execution_count": 104,
   "id": "f7bfc4c6-1182-408b-beeb-f9985acb1200",
   "metadata": {},
   "outputs": [
    {
     "name": "stdout",
     "output_type": "stream",
     "text": [
      "{'LA': ['end', 'kl', 'tk', 'ed'], 'JR': ['eq'], 'tk': ['LA', 'SQ', 'II', 'cc', 'XW', 'ed'], 'II': ['end', 'tk', 'eq', 'cc', 'ed'], 'SQ': ['tk', 'kl'], 'XW': ['end', 'tk', 'ed', 'eq'], 'start': ['LA', 'kl', 'SQ'], 'kl': ['LA', 'cc', 'SQ'], 'ns': ['eq'], 'eq': ['JR', 'ns', 'II', 'XW', 'ed'], 'cc': ['tk', 'kl', 'II', 'ed'], 'ed': ['LA', 'tk', 'II', 'eq', 'cc', 'XW']}\n",
      "defaultdict(<class 'list'>, {'XW': ['ed', 'eq', 'tk', 'end'], 'ed': ['XW', 'eq', 'cc', 'LA', 'tk', 'II'], 'cc': ['tk', 'ed', 'kl', 'II'], 'tk': ['cc', 'II', 'XW', 'LA', 'ed', 'SQ'], 'eq': ['ed', 'ns', 'XW', 'II', 'JR'], 'ns': ['eq'], 'LA': ['kl', 'end', 'ed', 'tk'], 'kl': ['LA', 'SQ', 'cc'], 'II': ['tk', 'end', 'cc', 'eq', 'ed'], 'SQ': ['kl', 'tk'], 'start': ['SQ', 'LA', 'kl'], 'JR': ['eq']})\n"
     ]
    }
   ],
   "source": [
    "with open('../inputs/input12.txt') as f:\n",
    "    files = f.read().splitlines()\n",
    "\n",
    "# ------------------------------\n",
    "# create connect point dictionary\n",
    "# ------------------------------\n",
    "import re\n",
    "\n",
    "pairs = []\n",
    "for t in files:\n",
    "    pairs += list(re.findall('(\\w+)-(\\w+)', t))\n",
    "\n",
    "unique_point = list(set(list(zip(*pairs))[1]) | set(list(zip(*pairs))[0]))\n",
    "\n",
    "dict_connect = {}\n",
    "for p in unique_point:\n",
    "    p_pair = [list(pair) for pair in pairs if p in pair]\n",
    "    next_point = []\n",
    "    for s in p_pair:\n",
    "        next_point += s\n",
    "    dict_connect[p] = list(set(next_point) - {p} - {'start'})\n",
    "del dict_connect['end']\n",
    "print(dict_connect)\n",
    "\n",
    "# ------------------------------\n",
    "# create connect point dictionary - alternative online solution\n",
    "# ------------------------------\n",
    "# using defaultdict can aovid key error, no need to initiaize a value first\n",
    "from collections import defaultdict\n",
    "\n",
    "dict_connect = defaultdict(list)\n",
    "for f in files:\n",
    "    pair = f.strip().split('-')\n",
    "    for p1, p2 in zip(pair, reversed(pair)):\n",
    "        if p2 != 'start':\n",
    "            dict_connect[p1].append(p2)\n",
    "del dict_connect['end']\n",
    "print(dict_connect)"
   ]
  },
  {
   "cell_type": "code",
   "execution_count": 105,
   "id": "8fc70ebf-2b68-4b2c-8618-977a6b1d067d",
   "metadata": {},
   "outputs": [
    {
     "name": "stdout",
     "output_type": "stream",
     "text": [
      "part 1:  3679\n"
     ]
    }
   ],
   "source": [
    "def count(dict_connect, path=['start']):\n",
    "    count_path = 0\n",
    "    for node in dict_connect[path[-1]]:\n",
    "        if node.isupper() or not node in path:\n",
    "            if node == 'end':\n",
    "                count_path += 1\n",
    "                # print('part1: end: ', path, node)\n",
    "            else:\n",
    "                count_path += count(dict_connect, path+[node])\n",
    "    return count_path\n",
    "        \n",
    "print('part 1: ', count(dict_connect))"
   ]
  },
  {
   "cell_type": "code",
   "execution_count": 106,
   "id": "68e6fe04-f1e2-4982-a5a0-9ce17239755e",
   "metadata": {},
   "outputs": [
    {
     "name": "stdout",
     "output_type": "stream",
     "text": [
      "part 2:  107395\n"
     ]
    }
   ],
   "source": [
    "def count2(dict_connect, path=['start']):\n",
    "    count_path = 0\n",
    "    for node in dict_connect[path[-1]]:\n",
    "        if node == 'end':\n",
    "            count_path += 1\n",
    "            # print('part2: end: ', path, node)\n",
    "        else:\n",
    "            if node.islower() and node in path:\n",
    "                count_path += count(dict_connect, path+[node])\n",
    "            else:\n",
    "                count_path += count2(dict_connect, path+[node])\n",
    "    return count_path\n",
    "     \n",
    "print('part 2: ', count2(dict_connect))"
   ]
  },
  {
   "cell_type": "markdown",
   "id": "06d80b73-fe2e-4d97-ba5a-37a9b34cf44d",
   "metadata": {},
   "source": [
    "### Day11-Part1/2"
   ]
  },
  {
   "cell_type": "code",
   "execution_count": 169,
   "id": "1e0249dd-d885-46b8-a803-6e620256398d",
   "metadata": {},
   "outputs": [],
   "source": [
    "with open('../inputs/input11.txt') as f:\n",
    "    files = f.read().splitlines()\n",
    "\n",
    "import numpy as np    \n",
    "files = np.array([[int(f) for f in file] for file in files])"
   ]
  },
  {
   "cell_type": "code",
   "execution_count": 173,
   "id": "05da5002-4b83-415b-8f54-e62cd0183504",
   "metadata": {},
   "outputs": [
    {
     "name": "stdout",
     "output_type": "stream",
     "text": [
      "Part 1:  1591\n",
      "Part 2:  314\n"
     ]
    }
   ],
   "source": [
    "def radiate(minitoy, i, j):\n",
    "    for ii in range(max(0, i-1), min(minitoy.shape[0], i+2)):\n",
    "        for jj in range(max(0, j-1), min(minitoy.shape[1], j+2)):\n",
    "            minitoy[ii][jj] += 1\n",
    "    minitoy[i][j] -= 1\n",
    "    return minitoy\n",
    "\n",
    "def simulation(minitoy, steps=1):\n",
    "    max_row, max_col = minitoy.shape\n",
    "    flash_cnt = 0\n",
    "    flash_seq = []\n",
    "    for step in range(steps):\n",
    "        minitoy = minitoy + 1\n",
    "        rad_cells = [] # cell radiated already\n",
    "        new_rad = []        \n",
    "        while True:\n",
    "            # print(minitoy)\n",
    "            for i in range(max_row):\n",
    "                for j in range(max_col):\n",
    "                    if minitoy[i][j] > 9:\n",
    "                        new_rad.append((i, j))\n",
    "            new_rad = list(set(new_rad) - set(rad_cells))\n",
    "            # print(\"new_rad: \", new_rad)\n",
    "            \n",
    "            if len(new_rad) == 0:\n",
    "                break\n",
    "\n",
    "            for r in new_rad:\n",
    "                minitoy = radiate(minitoy, r[0], r[1])\n",
    "            rad_cells = list(set(rad_cells + new_rad))\n",
    "            new_rad = []\n",
    "            # print(\"rad_cells: \", rad_cells)\n",
    "        \n",
    "        for cell in rad_cells:\n",
    "            minitoy[cell[0]][cell[1]] = 0\n",
    "        flash_cnt += len(rad_cells)\n",
    "        flash_seq.append(len(rad_cells))\n",
    "\n",
    "    return minitoy, flash_cnt, flash_seq\n",
    "\n",
    "print('Part 1: ', simulation(files, steps=100)[1])\n",
    "\n",
    "s = 100 # random initial number\n",
    "a, b, c = simulation(files, steps=s)\n",
    "while max(c) < 100:\n",
    "    s += 100\n",
    "    a, b, c = simulation(files, steps=s)\n",
    "print('Part 2: ', c.index(100)+1)"
   ]
  },
  {
   "cell_type": "markdown",
   "id": "97854614-66f1-4581-ba17-a2617d00dec0",
   "metadata": {},
   "source": [
    "### Day10-Part1/2"
   ]
  },
  {
   "cell_type": "code",
   "execution_count": 53,
   "id": "add71a67-c057-4ed1-8511-575ca14601ea",
   "metadata": {},
   "outputs": [
    {
     "name": "stdout",
     "output_type": "stream",
     "text": [
      "Part 1:  389589\n",
      "Part 2:  1190420163\n"
     ]
    }
   ],
   "source": [
    "with open('../inputs/input10.txt') as f:\n",
    "    files = f.read().splitlines()\n",
    "\n",
    "def day10(toy):\n",
    "    pairs =['<>', '[]', '()', '{}']\n",
    "    left = ['<', '[', '(', '{']\n",
    "    illegal = []\n",
    "    new_toy = toy.copy()    \n",
    "\n",
    "    for t in toy:\n",
    "        line = t\n",
    "        while ('<>' in t) or ('[]' in t) or ('()' in t) or ('{}' in t):\n",
    "            for p in pairs:\n",
    "                t = t.replace(p, \"\")\n",
    "        for s in left:\n",
    "            while (s in t):\n",
    "                t = t.replace(s, \"\")\n",
    "        if len(t)>0:\n",
    "            illegal.append(t[0])\n",
    "            new_toy.remove(line)\n",
    "\n",
    "    print('Part 1: ', illegal.count(')')*3 + illegal.count(']')*57 + illegal.count('}')*1197 + illegal.count('>')*25137)\n",
    "    \n",
    "    auto_complete = []  \n",
    "    dict_pairs = {'<':'>', '{':'}', '[':']', '(':')'}\n",
    "    dict_points = {')':1, ']':2, '}':3, '>':4}\n",
    "\n",
    "    for t in new_toy:\n",
    "        while ('<>' in t) or ('[]' in t) or ('()' in t) or ('{}' in t):\n",
    "            for p in pairs:\n",
    "                t = t.replace(p, \"\")\n",
    "        s = t[::-1]\n",
    "        auto_complete.append(''.join([dict_pairs[si] for si in s]))\n",
    "\n",
    "    list_score = []\n",
    "    for a in auto_complete:\n",
    "        score = 0\n",
    "        for ai in a:\n",
    "            score = 5*score + dict_points[ai]\n",
    "        list_score.append(score)\n",
    "    list_score = sorted(list_score)\n",
    "\n",
    "    print('Part 2: ', list_score[int(len(list_score)/2)])\n",
    "\n",
    "day10(files)"
   ]
  },
  {
   "cell_type": "markdown",
   "id": "81ec9e3a-1943-4d4d-9a78-02f58ae89654",
   "metadata": {},
   "source": [
    "### Day9-Part1/2"
   ]
  },
  {
   "cell_type": "code",
   "execution_count": 63,
   "id": "f8373ea4-8425-488f-8fd8-40e2383bc71c",
   "metadata": {},
   "outputs": [
    {
     "name": "stdout",
     "output_type": "stream",
     "text": [
      "Part 1:  417\n",
      "Part 2:  1148965\n"
     ]
    }
   ],
   "source": [
    "with open('../inputs/input9.txt')as f:\n",
    "    files = f.read().splitlines()\n",
    "files = [[int(i) for i in t] for t in files]\n",
    "    \n",
    "def local_min(toy):    \n",
    "    local_min = []\n",
    "    local_min_cor = []\n",
    "    max_row = len(toy)\n",
    "    max_col = len(toy[0])\n",
    "\n",
    "    for i in range(max_row):\n",
    "        for j in range(max_col):\n",
    "            right = toy[i][min(j+1, max_col-1)]\n",
    "            left = toy[i][max(j-1, 0)]\n",
    "            up = toy[max(0, i-1)][j]\n",
    "            down = toy[min(max_row-1, i+1)][j]\n",
    "            if j+1 == max_col:\n",
    "                right = 10\n",
    "            if j-1 < 0:\n",
    "                left = 10\n",
    "            if i-1 < 0:\n",
    "                up = 10\n",
    "            if i+1 == max_row:\n",
    "                down = 10\n",
    "            \n",
    "            if toy[i][j] < min(right, left, up, down):\n",
    "                local_min.append(toy[i][j])\n",
    "                local_min_cor.append([i, j])\n",
    "                \n",
    "    return sum(local_min)+len(local_min), local_min_cor\n",
    "\n",
    "def local_basin(toy, cor):    \n",
    "    new_basin = [(cor[0], cor[1])]\n",
    "    final_basin = [(cor[0], cor[1])]\n",
    "    max_row = len(toy)\n",
    "    max_col = len(toy[0])\n",
    "    \n",
    "    while len(new_basin)>0:\n",
    "        add_basin = []\n",
    "        for i in range(len(new_basin)):\n",
    "            x, y = new_basin[i][0], new_basin[i][1]\n",
    "            # right path\n",
    "            for j in range(y+1, max_col):\n",
    "                if ((toy[x][j] == 9) or (toy[x][y] >= toy[x][j])):\n",
    "                    break\n",
    "                else:\n",
    "                    add_basin.append((x, j))\n",
    "            # left path\n",
    "            for j in range(y-1, -1, -1):\n",
    "                if ((toy[x][j] == 9) or (toy[x][y] >= toy[x][j])):\n",
    "                    break\n",
    "                else:\n",
    "                    add_basin.append((x, j))\n",
    "            # up path\n",
    "            for i in range(x-1, -1, -1):\n",
    "                if ((toy[i][y] == 9) or (toy[x][y] >= toy[i][y])):\n",
    "                    break\n",
    "                else:\n",
    "                    add_basin.append((i, y))\n",
    "            # down path\n",
    "            for i in range(x+1, max_row):\n",
    "                if ((toy[i][y] == 9) or (toy[x][y] >= toy[i][y])):\n",
    "                    break\n",
    "                else:\n",
    "                    add_basin.append((i, y))\n",
    "        add_basin = list(set(add_basin) - set(new_basin))\n",
    "        final_basin = list(set(final_basin + add_basin))\n",
    "        new_basin = add_basin\n",
    " \n",
    "    return len(final_basin)\n",
    "            \n",
    "sum_min, local_min_cor = local_min(files)\n",
    "print('Part 1: ', sum_min)\n",
    "\n",
    "local_basin_area = []\n",
    "for mcor in local_min_cor:\n",
    "    local_basin_area.append(local_basin(files, mcor))\n",
    "\n",
    "local_basin_area = sorted(local_basin_area, reverse=True)[:3]\n",
    "print('Part 2: ', local_basin_area[0] * local_basin_area[1] * local_basin_area[2])"
   ]
  },
  {
   "cell_type": "markdown",
   "id": "23f329f4-a65a-4ac3-9532-2279ae42b01d",
   "metadata": {},
   "source": [
    "### Day8-Part1"
   ]
  },
  {
   "cell_type": "code",
   "execution_count": 114,
   "id": "91c84f96-b82c-41cb-8b13-dac0fbb61904",
   "metadata": {},
   "outputs": [],
   "source": [
    "with open('../inputs/input8.txt')as f:\n",
    "    files = f.read().splitlines()\n",
    "\n",
    "import re\n",
    "\n",
    "signals = []\n",
    "digits = []\n",
    "\n",
    "for f in files:\n",
    "    line = re.findall('[a-z]+', f)\n",
    "    signals.append(line[:10])\n",
    "    digits.append(line[-4:])"
   ]
  },
  {
   "cell_type": "code",
   "execution_count": 115,
   "id": "fd967c5b-14df-466f-a6f9-b53cb95bc151",
   "metadata": {},
   "outputs": [
    {
     "data": {
      "text/plain": [
       "239"
      ]
     },
     "execution_count": 115,
     "metadata": {},
     "output_type": "execute_result"
    }
   ],
   "source": [
    "# part 1\n",
    "sum4 = 0\n",
    "display4 = []\n",
    "for d in digits:\n",
    "    l = [dd for dd in d if len(dd) in [2, 4, 3, 7]]\n",
    "    sum4 += len(l)\n",
    "    display4.append(l)\n",
    "print(sum4)"
   ]
  },
  {
   "cell_type": "code",
   "execution_count": 118,
   "id": "3f05f92b-baf6-4273-aafd-37e229d3bb29",
   "metadata": {},
   "outputs": [
    {
     "name": "stdout",
     "output_type": "stream",
     "text": [
      "946346\n"
     ]
    }
   ],
   "source": [
    "# part 2\n",
    "def decode(toy_signals, toy_digits):\n",
    "\n",
    "    output = []\n",
    "    dict_digits = {}\n",
    "    dict_char = {}\n",
    "    dict_convert = {}\n",
    "    \n",
    "    for d,o in zip(toy_signals, toy_digits): \n",
    "        for dd in d:   \n",
    "            if len(dd)==2:\n",
    "                dict_digits['1'] = ''.join(dd)\n",
    "            elif len(dd) == 4:\n",
    "                dict_digits['4'] = ''.join(dd)\n",
    "            elif len(dd) == 3:\n",
    "                dict_digits['7'] = ''.join(dd)\n",
    "            elif len(dd) == 7:\n",
    "                dict_digits['8'] = ''.join(dd)\n",
    "\n",
    "        \n",
    "        new_str = ''.join(d)\n",
    "\n",
    "        for c in ['a', 'b', 'c', 'd', 'e', 'f', 'g']:\n",
    "            dict_char[c] = new_str.count(c)\n",
    "\n",
    "        for i,j in dict_char.items():        \n",
    "            if j == 9:\n",
    "                dict_convert['f'] = i\n",
    "            elif j == 4:\n",
    "                dict_convert['e'] = i\n",
    "            elif j == 6:\n",
    "                dict_convert['b'] = i\n",
    "                \n",
    "        dict_convert['a'] = list(set(dict_digits['7']) - set(dict_digits['1']))[0]\n",
    "        dict_convert['c'] = list(set(dict_digits['1']) - set(dict_convert['f']))[0]\n",
    "        dict_convert['d'] = list(set(dict_digits['4']) - set(dict_convert['f']) - set(dict_convert['b']) - set(dict_convert['c']))[0]\n",
    "        dict_convert['g'] = list(set(dict_digits['8']) - set(dict_digits['4']) - set(dict_convert['a']) - set(dict_convert['e']))[0]\n",
    "        dict_digits['6'] = ''.join(list(set(dict_digits['8']) - set(dict_convert['c'])))\n",
    "        dict_digits['9'] = ''.join(list(set(dict_digits['8']) - set(dict_convert['e'])))\n",
    "        dict_digits['0'] = ''.join(list(set(dict_digits['8']) - set(dict_convert['d'])))\n",
    "        dict_digits['5'] = ''.join(list(set(dict_digits['8']) - set(dict_convert['c']) - set(dict_convert['e'])))\n",
    "        dict_digits['3'] = ''.join(list(set(dict_digits['8']) - set(dict_convert['b']) - set(dict_convert['e'])))\n",
    "        dict_digits['2'] = ''.join(list(set(dict_digits['8']) - set(dict_convert['b']) - set(dict_convert['f'])))\n",
    "        \n",
    "        decoder = {}\n",
    "        for i,j in dict_digits.items():\n",
    "            dict_digits[i] = ''.join(sorted(j))\n",
    "            decoder[dict_digits[i]] = i\n",
    "\n",
    "        o = [''.join(sorted(i)) for i in o]\n",
    "        out = ''.join([decoder[i] for i in o])\n",
    "        output.append(int(out))\n",
    "\n",
    "    return output\n",
    "        \n",
    "print(sum(decode(signals, digits)))\n",
    "    "
   ]
  },
  {
   "cell_type": "markdown",
   "id": "3da6b6a3-743b-4110-937c-347a4e03b7f1",
   "metadata": {},
   "source": [
    "### Day7-Part1/2"
   ]
  },
  {
   "cell_type": "code",
   "execution_count": 23,
   "id": "031ac531-57cc-4804-8106-926c504a762d",
   "metadata": {},
   "outputs": [
    {
     "name": "stdout",
     "output_type": "stream",
     "text": [
      "part 1:  326132\n",
      "part 2:  88612508\n"
     ]
    }
   ],
   "source": [
    "with open('../inputs/input7.txt')as f:\n",
    "    files = f.read().split(\",\")\n",
    "files = [int(f) for f in files]\n",
    "\n",
    "import statistics\n",
    "import numpy as np\n",
    "\n",
    "# part 1\n",
    "median = statistics.median(files)\n",
    "print('part 1: ', int(sum(abs(np.array(files)-median))))\n",
    "\n",
    "# part 2\n",
    "fuel = []\n",
    "for i in range(min(files), max(files)):\n",
    "    step = abs(np.array(files)-i)\n",
    "    fuel.append(sum(step * (1+step)/2))\n",
    "print('part 2: ', int(min(fuel)))"
   ]
  },
  {
   "cell_type": "markdown",
   "id": "110eb317-b128-427f-ae24-adb2fa8ba84e",
   "metadata": {},
   "source": [
    "## Day6-Part1/2"
   ]
  },
  {
   "cell_type": "code",
   "execution_count": 16,
   "id": "890e5740-2de9-41b2-afe8-c306ea916d55",
   "metadata": {},
   "outputs": [
    {
     "name": "stdout",
     "output_type": "stream",
     "text": [
      "359999\n"
     ]
    }
   ],
   "source": [
    "with open('../inputs/input6.txt')as f:\n",
    "    files = f.read().split(\",\")\n",
    "files = [int(f) for f in files]\n",
    "\n",
    "def growfish(fishes, days):   \n",
    "    for i in range(days):\n",
    "        newfish = []\n",
    "        babyfish = []\n",
    "        for f in fishes:\n",
    "            newfish.append(f-1)\n",
    "            if newfish[-1] == -1:\n",
    "                newfish[-1] = 6\n",
    "                babyfish.append(8)\n",
    "        fishes = newfish + babyfish\n",
    "    return len(fishes)\n",
    "\n",
    "print(growfish(files, 80))\n",
    "# print(growfish(files, 256))"
   ]
  },
  {
   "cell_type": "code",
   "execution_count": 18,
   "id": "d15de3fc-b6f7-4a38-95ab-83d7b8bcaf55",
   "metadata": {},
   "outputs": [
    {
     "name": "stdout",
     "output_type": "stream",
     "text": [
      "1631647919273\n"
     ]
    }
   ],
   "source": [
    "def solve(values, days):\n",
    "    \"\"\" O(n) solution \n",
    "        instead of storing fish, we can store a count for days till reproduction\n",
    "        so fish = {\"0_days\": n, \"1_days\": n2, \"2_days\": n3, ...., \"10_days\":, n11}\n",
    "\n",
    "    Parameters\n",
    "    ----------\n",
    "        values : [list of days till reproduction]\n",
    "    \"\"\"\n",
    "\n",
    "    fish = {}\n",
    "    for i in range(11):\n",
    "        fish[str(i)] = 0\n",
    "    for i in values:\n",
    "        fish[str(i)] += 1\n",
    "\n",
    "    for i in range(days):\n",
    "        new_fish = {}\n",
    "        new_fish['0'] = fish['1']\n",
    "        new_fish['1'] = fish['2']\n",
    "        new_fish['2'] = fish['3']\n",
    "        new_fish['3'] = fish['4']\n",
    "        new_fish['4'] = fish['5']\n",
    "        new_fish['5'] = fish['6']\n",
    "        new_fish['6'] = fish['7']\n",
    "        new_fish['7'] = fish['8']\n",
    "        new_fish['6'] += fish['0']\n",
    "        new_fish['8'] = fish['0']\n",
    "        fish = new_fish\n",
    "\n",
    "    return sum(fish.values())\n",
    "print(solve(files, 256))"
   ]
  },
  {
   "cell_type": "code",
   "execution_count": null,
   "id": "bff1f5ef-2d6b-43b5-a9da-b72cf7fd4d2a",
   "metadata": {},
   "outputs": [],
   "source": []
  },
  {
   "cell_type": "code",
   "execution_count": null,
   "id": "24629987-11c7-41fe-a287-3345ee9d0897",
   "metadata": {},
   "outputs": [],
   "source": []
  },
  {
   "cell_type": "markdown",
   "id": "a705816e-7671-4f1b-b50a-714a98da455b",
   "metadata": {},
   "source": [
    "## Day5-Part1/2"
   ]
  },
  {
   "cell_type": "code",
   "execution_count": 247,
   "id": "04f226ea-5159-4c69-af56-f691e26de30e",
   "metadata": {},
   "outputs": [],
   "source": [
    "with open('../inputs/input5.txt') as f:\n",
    "    files = f.read().splitlines()\n",
    "\n",
    "files = [f.split(\" ->\") for f in files]\n",
    "files = [[f.strip().split(\",\") for f in file] for file in files]\n",
    "files = [[[int(f) for f in ff] for ff in file] for file in files]"
   ]
  },
  {
   "cell_type": "code",
   "execution_count": 250,
   "id": "c1850035-c742-4cc6-8948-1402935697ed",
   "metadata": {},
   "outputs": [
    {
     "name": "stdout",
     "output_type": "stream",
     "text": [
      "part1:  6564\n",
      "part2:  19172\n"
     ]
    }
   ],
   "source": [
    "point1, point2 = zip(*files)\n",
    "\n",
    "line_h = []\n",
    "line_v = []\n",
    "line_d = []\n",
    "for p1, p2 in zip(point1, point2):\n",
    "    if p1[0] == p2[0]:\n",
    "        line_h.append([p1, p2]) # horziontal line\n",
    "    if p1[1] == p2[1]:\n",
    "        line_v.append([p1, p2]) # vertical line\n",
    "    if abs(p1[0]-p2[0]) == abs(p1[1]-p2[1]):\n",
    "        line_d.append([p1, p2]) # diagonal line\n",
    "\n",
    "# generating diagonal line points\n",
    "point_d = []\n",
    "for i in range(len(line_d)):\n",
    "    x1, y1, x2, y2 = line_d[i][0][0], line_d[i][0][1], line_d[i][1][0], line_d[i][1][1]\n",
    "    xy_points = []\n",
    "    for i in range(abs(x2-x1)+1):\n",
    "        x_step = (x2-x1)/abs(x2-x1)\n",
    "        y_step = (y2-y1)/abs(y2-y1)\n",
    "        xy_points.append((x1+i*x_step, y1+i*y_step))\n",
    "    point_d.append(xy_points)\n",
    "point_d = tuple(point_d)\n",
    "\n",
    "# generating horizontal line points\n",
    "point_h = []\n",
    "for i in range(len(line_h)):\n",
    "    y1, y2 = line_h[i][0][1], line_h[i][1][1]\n",
    "    y_points = list(range(min(y1, y2), max(y1, y2)+1))\n",
    "    xy_points = []\n",
    "    for j in y_points:\n",
    "        xy_points.append((line_h[i][0][0], j))\n",
    "    point_h.append(xy_points)\n",
    "point_h = tuple(point_h)\n",
    "\n",
    "# generating vertical line points\n",
    "point_v = []\n",
    "for i in range(len(line_v)):\n",
    "    x1, x2 = line_v[i][0][0], line_v[i][1][0]\n",
    "    x_points = list(range(min(x1, x2), max(x1, x2)+1))\n",
    "    xy_points = []\n",
    "    for j in x_points:\n",
    "        xy_points.append((j, line_v[i][0][1]))\n",
    "    point_v.append(xy_points)\n",
    "point_v = tuple(point_v)\n",
    "\n",
    "# part 1\n",
    "\n",
    "point_all = point_h+point_v\n",
    "point_unique = []\n",
    "for p in point_all:\n",
    "    point_unique += p\n",
    "point_unique = set(point_unique)\n",
    "\n",
    "# find points only in 1 line\n",
    "common = []\n",
    "single_set = set(point_all[0])\n",
    "for p in point_all[1:]:\n",
    "    pset = set(p) - set(common)    \n",
    "    ci = single_set & pset\n",
    "    if len(ci) > 0:\n",
    "        common += list(ci)\n",
    "    single_set ^= pset # keep only exist in either one\n",
    "\n",
    "print('part1: ', len(point_unique)-len(single_set))\n",
    "\n",
    "# part 2\n",
    "\n",
    "point_all = point_h+point_v+point_d\n",
    "point_unique = []\n",
    "for p in point_all:\n",
    "    point_unique += p\n",
    "point_unique = set(point_unique)\n",
    "\n",
    "# find points only in 1 line\n",
    "common = []\n",
    "single_set = set(point_all[0])\n",
    "for p in point_all[1:]:\n",
    "    pset = set(p) - set(common)    \n",
    "    ci = single_set & pset\n",
    "    if len(ci) > 0:\n",
    "        common += list(ci)\n",
    "    single_set ^= pset # keep only exist in either one\n",
    "\n",
    "print('part2: ', len(point_unique)-len(single_set))"
   ]
  },
  {
   "cell_type": "code",
   "execution_count": 252,
   "id": "a7d5b911-d751-454d-a54f-b40eb5e83469",
   "metadata": {},
   "outputs": [
    {
     "name": "stdout",
     "output_type": "stream",
     "text": [
      "Part 1: 6564\n",
      "Part 2: 19172\n"
     ]
    }
   ],
   "source": [
    "# online solution\n",
    "\n",
    "with open('../inputs/input5.txt') as f:\n",
    "    data = f.read()\n",
    "\n",
    "import re\n",
    "from collections import Counter\n",
    "\n",
    "def solution(data, part=1):\n",
    "    lines = re.findall('(\\d+),(\\d+) -> (\\d+),(\\d+)', data)\n",
    "    points = Counter()\n",
    "    for line in lines:\n",
    "        x1, y1, x2, y2 = map(int, line)\n",
    "        if part == 1 and x1 != x2 and y1 != y2:  # diagonal line\n",
    "            continue\n",
    "        dx, dy = x2 - x1, y2 - y1\n",
    "        length = max(abs(dx), abs(dy))\n",
    "        x_step, y_step = dx//length, dy//length\n",
    "        points.update((x1 + i*x_step, y1 + i*y_step) for i in range(length+1))\n",
    "    return sum(count > 1 for count in points.values())\n",
    "\n",
    "print('Part 1:', solution(data, part=1))\n",
    "print('Part 2:', solution(data, part=2))"
   ]
  },
  {
   "cell_type": "markdown",
   "id": "46b901b4-8611-47cf-b3ab-013399062be8",
   "metadata": {},
   "source": [
    "### Day4-Part1/2"
   ]
  },
  {
   "cell_type": "code",
   "execution_count": 478,
   "id": "afa2e38d-ad2f-4186-970e-35c978572877",
   "metadata": {},
   "outputs": [
    {
     "name": "stdout",
     "output_type": "stream",
     "text": [
      "41668\n",
      "10478\n"
     ]
    }
   ],
   "source": [
    "# my solution\n",
    "\n",
    "with open('../inputs/input4-number.txt') as f:\n",
    "    number = f.read().splitlines()\n",
    "number = [n.split(\",\") for n in number][0]\n",
    "\n",
    "with open('../inputs/input4-board.txt') as f:\n",
    "    board = f.read().splitlines()\n",
    "\n",
    "board1 = [] # prepare each board\n",
    "\n",
    "n = int((len(board)+1)/6) # number of boards\n",
    "\n",
    "for i in range(n):\n",
    "    bi = board[i*6]\n",
    "    for j in range(i*6+1, i*6+6):\n",
    "        if j < len(board):\n",
    "            bi = bi + \" \" + board[j]\n",
    "    board1.append(bi)\n",
    "\n",
    "board1 = [b1.split(\" \") for b1 in board1]\n",
    "# remove empty string\n",
    "for i, b1 in enumerate(board1):\n",
    "    board1[i] = [bi for bi in b1 if len(bi)>0]\n",
    "\n",
    "# run the game\n",
    "\n",
    "def check_ni_boardi(list_l, number_i, mark):\n",
    "    if number_i in list_l:\n",
    "        mark[list_l.index(number_i)] = 1\n",
    "    return mark\n",
    "\n",
    "def update_flag(mark):\n",
    "    flag = [0]*10\n",
    "    for i in range(5):\n",
    "        flag[i] = sum(mark[i*5:(i+1)*5]) # horizontal\n",
    "    for i in range(5, 10):\n",
    "        flag[i] = sum([mark[ind] for ind in range(i-5, 25, 5)]) # vertical\n",
    "    return flag \n",
    "\n",
    "def run1_board(boardi, number):\n",
    "    mark = [0]*25\n",
    "    seq = 0\n",
    "    for ni in number:\n",
    "        mark = check_ni_boardi(boardi, ni, mark)\n",
    "        flag = update_flag(mark)\n",
    "        if max(flag) == 5:\n",
    "            break\n",
    "        seq = seq + 1\n",
    "    unmarked = [int(j) for i,j in zip(mark, boardi) if i==0]\n",
    "    score = int(ni) * sum(unmarked) \n",
    "    return seq, score\n",
    "\n",
    "out = []\n",
    "for b1 in board1:\n",
    "    out.append(run1_board(b1, number))\n",
    "\n",
    "# part 1 - get first winning score\n",
    "\n",
    "rounds, scores= zip(*out)\n",
    "print(scores[rounds.index(min(rounds))])\n",
    "\n",
    "# part 2 - get last winning score\n",
    "\n",
    "rounds, scores= zip(*out)\n",
    "print(scores[rounds.index(max(rounds))])"
   ]
  },
  {
   "cell_type": "code",
   "execution_count": null,
   "id": "bf876130-7f79-4c93-a90c-afe719cbcb48",
   "metadata": {},
   "outputs": [
    {
     "name": "stdout",
     "output_type": "stream",
     "text": [
      "41668\n",
      "10478\n"
     ]
    }
   ],
   "source": [
    "# Online solution I found\n",
    "# -- much more effient in loading data and do logics\n",
    "\n",
    "with open('../inputs/input4.txt') as f:\n",
    "    numbers, *boards = f.read().split('\\n\\n')\n",
    "    numbers = list(map(int, numbers.split(',')))\n",
    "    boards = [[[int(n) for n in row.split()] for row in board.splitlines()] for board in boards]\n",
    "\n",
    "from itertools import chain\n",
    "\n",
    "def find_win_score():\n",
    "    called = []\n",
    "    for num in numbers:\n",
    "        called.append(num)\n",
    "        for board in boards:\n",
    "            if any(set(line) < set(called) for line in chain(board, zip(*board))):\n",
    "                unmarked = {n for row in board for n in row} - set(called)\n",
    "                return sum(unmarked) * num\n",
    "\n",
    "def find_losing_score():\n",
    "    called = numbers.copy()\n",
    "    while called:\n",
    "        last = called.pop()\n",
    "        for board in boards:\n",
    "            if not any(set(line) < set(called) for line in chain(board, zip(*board))):\n",
    "                unmarked = {n for row in board for n in row} - {last, *called}\n",
    "                return sum(unmarked) * last\n",
    "print(find_win_score())\n",
    "print(find_losing_score())"
   ]
  },
  {
   "cell_type": "markdown",
   "id": "31c6b02e-d959-4c83-8b4f-9f42c4b4c702",
   "metadata": {},
   "source": [
    "### Day3-Part1"
   ]
  },
  {
   "cell_type": "code",
   "execution_count": 18,
   "id": "56bdbce5-fd9a-4eda-9c74-184fb490faf9",
   "metadata": {},
   "outputs": [],
   "source": [
    "with open('../inputs/input3.txt') as f:\n",
    "    lines = f.read().splitlines()\n",
    "\n",
    "for l in lines:\n",
    "    ll.append([li for li in l])"
   ]
  },
  {
   "cell_type": "code",
   "execution_count": 34,
   "id": "d04827fa-a612-4bae-9fdc-4bdb3d759f88",
   "metadata": {},
   "outputs": [
    {
     "name": "stdout",
     "output_type": "stream",
     "text": [
      "654 3441 2250414\n"
     ]
    }
   ],
   "source": [
    "from statistics import mode\n",
    "\n",
    "gamma = []\n",
    "for i in range(len(ll[0])):\n",
    "    xi = []\n",
    "    for lli in ll:\n",
    "        xi.append(lli[i])        \n",
    "    gamma.append(mode(xi))\n",
    "gamma = [int(i) for i in gamma]\n",
    "epsilon = [1-i for i in gamma]\n",
    "gamma = int(''.join([str(i) for i in gamma]), 2)\n",
    "epsilon = int(''.join([str(i) for i in epsilon]), 2)\n",
    "print(gamma, epsilon, gamma*epsilon)"
   ]
  },
  {
   "cell_type": "markdown",
   "id": "eb359566-ea1c-4b96-a58d-04bda69cba0d",
   "metadata": {},
   "source": [
    "### Day3-Part2"
   ]
  },
  {
   "cell_type": "code",
   "execution_count": 68,
   "id": "baaf49af-37b1-48f2-9c13-d9cd0c52fcd2",
   "metadata": {},
   "outputs": [
    {
     "name": "stdout",
     "output_type": "stream",
     "text": [
      "1935 3145 6085575\n"
     ]
    }
   ],
   "source": [
    "def findO2(l):\n",
    "    \n",
    "    def getListByOne(l, i):\n",
    "        xi = []\n",
    "        for lli in l:\n",
    "            xi.append(lli[i])\n",
    "        if xi.count('1') >= xi.count('0'):\n",
    "            pos = [i for i, x in enumerate(xi) if x == \"1\"]\n",
    "        else:\n",
    "            pos = [i for i, x in enumerate(xi) if x == \"0\"]\n",
    "\n",
    "        out = []\n",
    "        for p in pos:\n",
    "            out.append(l[p])\n",
    "        return out, len(out)\n",
    "\n",
    "    subl = l\n",
    "    lenl = len(l)\n",
    "    i = 0\n",
    "    while lenl > 1:\n",
    "        subl, lenl = getListByOne(subl, i)\n",
    "        i += 1\n",
    "    \n",
    "    if lenl==1:\n",
    "        O2 = int(''.join([str(i) for i in subl[0]]), 2)\n",
    "    return O2\n",
    "\n",
    "\n",
    "def findCO2(l):\n",
    "    \n",
    "    def getListByOne(l, i):\n",
    "        xi = []\n",
    "        for lli in l:\n",
    "            xi.append(lli[i])\n",
    "        if xi.count('0') <= xi.count('1'):\n",
    "            pos = [i for i, x in enumerate(xi) if x == \"0\"]\n",
    "        else:\n",
    "            pos = [i for i, x in enumerate(xi) if x == \"1\"]\n",
    "\n",
    "        out = []\n",
    "        for p in pos:\n",
    "            out.append(l[p])\n",
    "        return out, len(out)\n",
    "\n",
    "    subl = l\n",
    "    lenl = len(l)\n",
    "    i = 0\n",
    "    while lenl > 1:\n",
    "        subl, lenl = getListByOne(subl, i)\n",
    "        i += 1\n",
    "    \n",
    "    if lenl==1:\n",
    "        CO2 = int(''.join([str(i) for i in subl[0]]), 2)\n",
    "    return CO2\n",
    "\n",
    "O2 = findO2(ll)\n",
    "CO2 = findCO2(ll)\n",
    "print(O2, CO2, O2*CO2)        \n",
    "    "
   ]
  },
  {
   "cell_type": "markdown",
   "id": "5568609f-06df-4cff-8a6b-69c64403916b",
   "metadata": {},
   "source": [
    "### Day2-Part1"
   ]
  },
  {
   "cell_type": "code",
   "execution_count": 25,
   "id": "9d1cba38-6849-4705-843a-2714c2632b13",
   "metadata": {},
   "outputs": [
    {
     "name": "stdout",
     "output_type": "stream",
     "text": [
      "2019945\n"
     ]
    }
   ],
   "source": [
    "with open('../inputs/input2.txt') as f:\n",
    "    lines = f.read().splitlines()\n",
    "\n",
    "split_lines = [l.split(\" \") for l in lines]\n",
    "direction, position = map(list, zip(*split_lines))\n",
    "position = [int(i) for i in position]\n",
    "depth = 0\n",
    "pos = 0\n",
    "for d, p in zip(direction, position):\n",
    "    if d == 'forward':\n",
    "        pos += p\n",
    "    if d == 'up':\n",
    "        depth -= p\n",
    "    if d == 'down':\n",
    "        depth += p\n",
    "print(depth*pos)"
   ]
  },
  {
   "cell_type": "markdown",
   "id": "58166e30-a27e-4483-97eb-4dc5c797de85",
   "metadata": {},
   "source": [
    "### Day2-Part2"
   ]
  },
  {
   "cell_type": "code",
   "execution_count": 26,
   "id": "5dd9afbf-bc93-420c-a2a9-37491a2ddf75",
   "metadata": {},
   "outputs": [
    {
     "name": "stdout",
     "output_type": "stream",
     "text": [
      "1599311480\n"
     ]
    }
   ],
   "source": [
    "aim = 0\n",
    "hori = 0\n",
    "depth = 0\n",
    "for d, p in zip(direction, position):\n",
    "    if d == 'down':\n",
    "        aim += p\n",
    "    if d == 'up':\n",
    "        aim -= p\n",
    "    if d == 'forward':\n",
    "        hori += p\n",
    "        depth += aim * p\n",
    "print(hori*depth)"
   ]
  },
  {
   "cell_type": "markdown",
   "id": "9ec0b652-dadc-497e-a486-6414ea30af38",
   "metadata": {},
   "source": [
    "### Day1-Part1"
   ]
  },
  {
   "cell_type": "code",
   "execution_count": 28,
   "id": "e54a483e-9403-4fec-a89e-8805e88895ad",
   "metadata": {},
   "outputs": [
    {
     "data": {
      "text/plain": [
       "1298"
      ]
     },
     "execution_count": 28,
     "metadata": {},
     "output_type": "execute_result"
    }
   ],
   "source": [
    "with open('../inputs/input1.txt') as f:\n",
    "    lines = f.read().splitlines()\n",
    "\n",
    "lines = [int(l) for l in lines]\n",
    "\n",
    "import numpy as np\n",
    "\n",
    "line_array = np.array(lines)\n",
    "line_array2 = np.array(lines[1:])\n",
    "line_array2 = np.append(line_array2, line_array[-1])\n",
    "\n",
    "sum((line_array2-line_array)>0)"
   ]
  },
  {
   "cell_type": "code",
   "execution_count": 45,
   "id": "dbf5ce24-fa1a-4307-a21f-736d57f24ef1",
   "metadata": {},
   "outputs": [
    {
     "data": {
      "text/plain": [
       "1298"
      ]
     },
     "execution_count": 45,
     "metadata": {},
     "output_type": "execute_result"
    }
   ],
   "source": [
    "# or just roll XD\n",
    "sum((np.roll(line_array, -1)[:-1]-line_array[:-1])>0)"
   ]
  },
  {
   "cell_type": "markdown",
   "id": "fac7a5ed-6fcc-4f9a-95ef-50a4eaaa2c76",
   "metadata": {},
   "source": [
    "### Day1-Part2"
   ]
  },
  {
   "cell_type": "code",
   "execution_count": 46,
   "id": "ff560056-260d-45f0-bf85-bc5dbc40ea2f",
   "metadata": {},
   "outputs": [
    {
     "data": {
      "text/plain": [
       "1248"
      ]
     },
     "execution_count": 46,
     "metadata": {},
     "output_type": "execute_result"
    }
   ],
   "source": [
    "line_array2 = np.array(lines[1:])\n",
    "line_array2 = np.append(line_array2, 0)\n",
    "line_array3 = np.array(lines[2:])\n",
    "line_array3 = np.append(line_array3, [0, 0])\n",
    "line_sum = (line_array + line_array2 + line_array3)[:-2]\n",
    "\n",
    "sum((np.roll(line_sum, -1)[:-1]-line_sum[:-1])>0)"
   ]
  },
  {
   "cell_type": "code",
   "execution_count": 47,
   "id": "c8284c2e-3280-4473-8c77-fff6620d16d2",
   "metadata": {},
   "outputs": [
    {
     "data": {
      "text/plain": [
       "1248"
      ]
     },
     "execution_count": 47,
     "metadata": {},
     "output_type": "execute_result"
    }
   ],
   "source": [
    "# double roll\n",
    "line_sum = line_array[:-2] + np.roll(line_array, -1)[:-2] + np.roll(line_array, -2)[:-2] \n",
    "sum((np.roll(line_sum, -1)[:-1]-line_sum[:-1])>0)"
   ]
  }
 ],
 "metadata": {
  "kernelspec": {
   "display_name": "Python 3 (ipykernel)",
   "language": "python",
   "name": "python3"
  },
  "language_info": {
   "codemirror_mode": {
    "name": "ipython",
    "version": 3
   },
   "file_extension": ".py",
   "mimetype": "text/x-python",
   "name": "python",
   "nbconvert_exporter": "python",
   "pygments_lexer": "ipython3",
   "version": "3.10.0"
  }
 },
 "nbformat": 4,
 "nbformat_minor": 5
}
