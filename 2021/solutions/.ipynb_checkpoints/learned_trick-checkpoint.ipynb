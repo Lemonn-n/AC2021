{
 "cells": [
  {
   "cell_type": "code",
   "execution_count": 4,
   "id": "ce21e18d-7000-4814-b3b7-dd5e9352a251",
   "metadata": {},
   "outputs": [],
   "source": [
    "import numpy as np\n",
    "from itertools import chain"
   ]
  },
  {
   "cell_type": "code",
   "execution_count": null,
   "id": "a9215568-a07e-493d-a390-99dbb73f258f",
   "metadata": {},
   "outputs": [],
   "source": [
    "# load in files\n",
    "\n",
    "with open('../inputs/input4.txt') as f:\n",
    "    numbers, *boards = f.read().split('\\n\\n')\n",
    "    numbers = list(map(int, numbers.split(',')))\n",
    "    boards = [[[int(n) for n in row.split()] for row in board.splitlines()] for board in boards]"
   ]
  },
  {
   "cell_type": "markdown",
   "id": "84bbf8f9-3703-4a6d-8a24-e84fdb7d43ca",
   "metadata": {},
   "source": [
    "# use zip to transpose square shape list "
   ]
  },
  {
   "cell_type": "code",
   "execution_count": 5,
   "id": "e620b33e-8035-4b2a-93b5-8001172a1c16",
   "metadata": {},
   "outputs": [
    {
     "name": "stdout",
     "output_type": "stream",
     "text": [
      "before:\n",
      " [[1 2]\n",
      " [3 4]]\n",
      "after:\n",
      " [[1 3]\n",
      " [2 4]]\n"
     ]
    }
   ],
   "source": [
    "a = [[1, 2], [3, 4]]\n",
    "b = list(zip(*a))\n",
    "# use np.array to show the shape\n",
    "print('before:\\n', np.array(a))\n",
    "print('after:\\n', np.array(b))"
   ]
  },
  {
   "cell_type": "code",
   "execution_count": 6,
   "id": "4c9ef2bb-9d0f-4c86-a6db-ef517f493853",
   "metadata": {},
   "outputs": [
    {
     "name": "stdout",
     "output_type": "stream",
     "text": [
      "before:\n",
      " [[[1 2]\n",
      "  [3 4]]\n",
      "\n",
      " [[5 6]\n",
      "  [7 8]]]\n",
      "after\n",
      "=====\n",
      "[1, 2]\n",
      "[3, 4]\n",
      "(1, 3)\n",
      "(2, 4)\n",
      "=====\n",
      "[5, 6]\n",
      "[7, 8]\n",
      "(5, 7)\n",
      "(6, 8)\n"
     ]
    }
   ],
   "source": [
    "a = [[[1,2], [3,4]], [[5, 6], [7, 8]]]\n",
    "print('before:\\n', np.array(a))\n",
    "print('after')\n",
    "for ai in a:\n",
    "    b = list(zip(*ai))\n",
    "    print('=====')\n",
    "    for i in chain(ai, b):\n",
    "        print(i)"
   ]
  },
  {
   "cell_type": "code",
   "execution_count": null,
   "id": "69e95ccf-1e25-4a95-b089-88e0583ca8ab",
   "metadata": {},
   "outputs": [],
   "source": []
  }
 ],
 "metadata": {
  "kernelspec": {
   "display_name": "Python 3 (ipykernel)",
   "language": "python",
   "name": "python3"
  },
  "language_info": {
   "codemirror_mode": {
    "name": "ipython",
    "version": 3
   },
   "file_extension": ".py",
   "mimetype": "text/x-python",
   "name": "python",
   "nbconvert_exporter": "python",
   "pygments_lexer": "ipython3",
   "version": "3.9.9"
  }
 },
 "nbformat": 4,
 "nbformat_minor": 5
}
