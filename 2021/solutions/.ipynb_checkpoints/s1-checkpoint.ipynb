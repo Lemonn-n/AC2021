{
 "cells": [
  {
   "cell_type": "markdown",
   "id": "9ec0b652-dadc-497e-a486-6414ea30af38",
   "metadata": {},
   "source": [
    "### Day1-Part1"
   ]
  },
  {
   "cell_type": "code",
   "execution_count": 1,
   "id": "e54a483e-9403-4fec-a89e-8805e88895ad",
   "metadata": {},
   "outputs": [
    {
     "data": {
      "text/plain": [
       "1298"
      ]
     },
     "execution_count": 1,
     "metadata": {},
     "output_type": "execute_result"
    }
   ],
   "source": [
    "with open('../inputs/input1.txt') as f:\n",
    "    lines = f.read().splitlines()\n",
    "\n",
    "lines = [int(l) for l in lines]\n",
    "\n",
    "import numpy as np\n",
    "\n",
    "line_array = np.array(lines)\n",
    "line_array2 = np.array(lines[1:])\n",
    "line_array2 = np.append(line_array2, line_array[-1])\n",
    "\n",
    "sum((line_array2-line_array)>0)"
   ]
  },
  {
   "cell_type": "code",
   "execution_count": 2,
   "id": "dbf5ce24-fa1a-4307-a21f-736d57f24ef1",
   "metadata": {},
   "outputs": [
    {
     "data": {
      "text/plain": [
       "1298"
      ]
     },
     "execution_count": 2,
     "metadata": {},
     "output_type": "execute_result"
    }
   ],
   "source": [
    "# or just roll XD\n",
    "sum((np.roll(line_array, -1)[:-1]-line_array[:-1])>0)"
   ]
  },
  {
   "cell_type": "markdown",
   "id": "fac7a5ed-6fcc-4f9a-95ef-50a4eaaa2c76",
   "metadata": {},
   "source": [
    "### Day1-Part2"
   ]
  },
  {
   "cell_type": "code",
   "execution_count": 3,
   "id": "ff560056-260d-45f0-bf85-bc5dbc40ea2f",
   "metadata": {},
   "outputs": [
    {
     "data": {
      "text/plain": [
       "1248"
      ]
     },
     "execution_count": 3,
     "metadata": {},
     "output_type": "execute_result"
    }
   ],
   "source": [
    "line_array2 = np.array(lines[1:])\n",
    "line_array2 = np.append(line_array2, 0)\n",
    "line_array3 = np.array(lines[2:])\n",
    "line_array3 = np.append(line_array3, [0, 0])\n",
    "line_sum = (line_array + line_array2 + line_array3)[:-2]\n",
    "\n",
    "sum((np.roll(line_sum, -1)[:-1]-line_sum[:-1])>0)"
   ]
  },
  {
   "cell_type": "code",
   "execution_count": 4,
   "id": "c8284c2e-3280-4473-8c77-fff6620d16d2",
   "metadata": {},
   "outputs": [
    {
     "data": {
      "text/plain": [
       "1248"
      ]
     },
     "execution_count": 4,
     "metadata": {},
     "output_type": "execute_result"
    }
   ],
   "source": [
    "# double roll\n",
    "line_sum = line_array[:-2] + np.roll(line_array, -1)[:-2] + np.roll(line_array, -2)[:-2] \n",
    "sum((np.roll(line_sum, -1)[:-1]-line_sum[:-1])>0)"
   ]
  }
 ],
 "metadata": {
  "kernelspec": {
   "display_name": "Python 3 (ipykernel)",
   "language": "python",
   "name": "python3"
  },
  "language_info": {
   "codemirror_mode": {
    "name": "ipython",
    "version": 3
   },
   "file_extension": ".py",
   "mimetype": "text/x-python",
   "name": "python",
   "nbconvert_exporter": "python",
   "pygments_lexer": "ipython3",
   "version": "3.9.9"
  }
 },
 "nbformat": 4,
 "nbformat_minor": 5
}
